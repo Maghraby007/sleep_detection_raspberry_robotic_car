{
 "cells": [
  {
   "cell_type": "code",
   "execution_count": null,
   "id": "962aacf9-fc98-4392-93cb-e38d2483b4b5",
   "metadata": {},
   "outputs": [],
   "source": [
    "import Flask\n",
    "import RPi.GPIO as gpio\n",
    "import time\n",
    "\n",
    "\n",
    "gpio.setwarning(False)\n",
    "\n",
    "app = Flask(__name__)\n",
    "\n",
    "def init():\n",
    "    gpio.set(gpio.BCM)\n",
    "    gpio.setup(22,gpio.OUT)\n",
    "\n",
    "@app.route('/go')\n",
    "def forward():\n",
    "    init()\n",
    "    time.sleep(0.5)\n",
    "    gpio.output(22, True)\n",
    "    \n",
    "    return 'Awake'\n",
    "@app.route('/stop')\n",
    "def stop():\n",
    "    init()\n",
    "    time.sleep(0.5)\n",
    "    gpio.output(22, False)\n",
    "    \n",
    "    return 'driver sleep'\n",
    "\n",
    "if __name__=='__main__':\n",
    "    http_server=WSGIServer(('1.1.1.1'),5000,app)\n",
    "    http_server.serve_forever()    "
   ]
  }
 ],
 "metadata": {
  "kernelspec": {
   "display_name": "Python 3 (ipykernel)",
   "language": "python",
   "name": "python3"
  },
  "language_info": {
   "codemirror_mode": {
    "name": "ipython",
    "version": 3
   },
   "file_extension": ".py",
   "mimetype": "text/x-python",
   "name": "python",
   "nbconvert_exporter": "python",
   "pygments_lexer": "ipython3",
   "version": "3.9.12"
  }
 },
 "nbformat": 4,
 "nbformat_minor": 5
}
